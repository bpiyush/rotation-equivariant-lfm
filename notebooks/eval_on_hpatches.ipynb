{
 "cells": [
  {
   "cell_type": "markdown",
   "id": "310c7260-d358-4923-8c3e-4db6387efde4",
   "metadata": {},
   "source": [
    "### Evaluation notebook\n",
    "\n",
    "Evaluates on `HPatches` dataset."
   ]
  },
  {
   "cell_type": "markdown",
   "id": "9698474e-5c25-4b26-8b9b-0dd75962045b",
   "metadata": {},
   "source": [
    "For an R2D2-like model, given that you have run the inference script `relfm/inference/r2d2_on_hpatches.py` that generates outputs, you can run this notebook to test rotation equivariance of local feature matching."
   ]
  },
  {
   "cell_type": "markdown",
   "id": "f4a93619-b0c5-484d-83b7-b8f8fddf2100",
   "metadata": {},
   "source": [
    "## Table of Contents\n",
    "\n",
    "* [Imports](#imports)\n",
    "* [Configure inputs](#configure_inputs)\n",
    "* [Generate results](#generate_results)\n",
    "* [Plot results](#plot_results)"
   ]
  },
  {
   "cell_type": "markdown",
   "id": "90f15c3f-9249-443c-9803-34a9248ff7c9",
   "metadata": {},
   "source": [
    "### Imports <a class=\"anchor\" id=\"imports\"></a>"
   ]
  },
  {
   "cell_type": "markdown",
   "id": "cc4d6a9a-86b9-49ca-a8b0-18e9baf3ef60",
   "metadata": {},
   "source": [
    "Basic imports.\n",
    "> Note that you should set `PYTHONPATH=/path/to/repo/:/path/to/repo/lib/r2d2/` before running the environment."
   ]
  },
  {
   "cell_type": "code",
   "execution_count": 1,
   "id": "3ec7fe25-756a-4329-b52e-c8e9ceedd3e0",
   "metadata": {},
   "outputs": [],
   "source": [
    "%load_ext autoreload\n",
    "%autoreload 2"
   ]
  },
  {
   "cell_type": "code",
   "execution_count": 2,
   "id": "afdb41fb-93e1-4dab-b692-f91e1f19bc5f",
   "metadata": {},
   "outputs": [],
   "source": [
    "import os\n",
    "from os.path import join, exists, expanduser\n",
    "from genericpath import isdir\n",
    "from glob import glob\n",
    "import numpy as np\n",
    "from PIL import Image\n",
    "from collections import defaultdict\n",
    "import matplotlib.pyplot as plt\n",
    "\n",
    "from lib.r2d2.extract import extract_keypoints_modified\n",
    "from relfm.utils.paths import REPO_PATH\n",
    "from relfm.utils.log import print_update, tqdm_iterator\n",
    "from relfm.utils.visualize import show_images_with_keypoints\n",
    "from relfm.utils.matching import evaluate_matching_with_rotation, analyze_result\n",
    "from relfm.inference.r2d2_on_hpatches import configure_save_dir"
   ]
  },
  {
   "cell_type": "markdown",
   "id": "3c100f01-3c0f-47b0-9ba6-0ca5107eb890",
   "metadata": {},
   "source": [
    "### Configure inputs <a class=\"anchor\" id=\"configure_inputs\"></a>"
   ]
  },
  {
   "cell_type": "markdown",
   "id": "6dbc334b-32ee-446d-899f-3d9130a88926",
   "metadata": {},
   "source": [
    "Set the correct data and output paths as well as the model checkpoint that you'd like to evaluate on. Parameters such as `gap_between_rotations` and `imsize` (size of downsized image to evaluate) are hard-coded to be the same as the default values in the inference script."
   ]
  },
  {
   "cell_type": "code",
   "execution_count": 3,
   "id": "618ed8d3-8a5c-4e3a-bc99-4978d95d2828",
   "metadata": {},
   "outputs": [],
   "source": [
    "data_dir = join(REPO_PATH, \"data/hpatches-sequences-release/\")\n",
    "# model_ckpt_path = join(REPO_PATH, \"checkpoints/r2d2_WASF_N16.pt\")\n",
    "model_ckpt_path = join(REPO_PATH, \"trained_models/epoch_16_test_model.pt\")\n",
    "output_dir = join(expanduser(\"~\"), \"outputs/rotation-equivariant-lfm\")"
   ]
  },
  {
   "cell_type": "code",
   "execution_count": 4,
   "id": "a3ecf5f8-89af-4319-968c-d32e1612ebc0",
   "metadata": {},
   "outputs": [],
   "source": [
    "assert isdir(data_dir)\n",
    "assert isdir(output_dir)\n",
    "assert exists(model_ckpt_path)\n",
    "\n",
    "gap_between_rotations=15\n",
    "downsize=True\n",
    "imsize=300"
   ]
  },
  {
   "cell_type": "code",
   "execution_count": 5,
   "id": "16b7a3df-9006-45bf-9bbd-f912b7e981cc",
   "metadata": {},
   "outputs": [],
   "source": [
    "save_dir = configure_save_dir(output_dir, model_ckpt_path, dataset_name=\"hpatches\")"
   ]
  },
  {
   "cell_type": "code",
   "execution_count": 6,
   "id": "bd289f65-e7d5-4e49-9b0a-80e8f5958425",
   "metadata": {},
   "outputs": [
    {
     "data": {
      "text/plain": [
       "'/home/lcur1325/outputs/rotation-equivariant-lfm/hpatches/epoch_16_test_model'"
      ]
     },
     "execution_count": 6,
     "metadata": {},
     "output_type": "execute_result"
    }
   ],
   "source": [
    "save_dir"
   ]
  },
  {
   "cell_type": "markdown",
   "id": "7b67dd26-7d8e-4ab1-a63c-00f092d9d160",
   "metadata": {},
   "source": [
    "### Generate results <a class=\"anchor\" id=\"generate_results\"></a>"
   ]
  },
  {
   "cell_type": "code",
   "execution_count": 7,
   "id": "24dca9ab-ab41-42ed-8da9-467f05667340",
   "metadata": {},
   "outputs": [],
   "source": [
    "# load image sequences\n",
    "sequences = sorted(glob(join(data_dir, \"*\")))\n",
    "\n",
    "# load rotation values between 0 and 360 degrees\n",
    "rotations = np.arange(0, 360 + 1, gap_between_rotations, dtype=int)\n",
    "\n",
    "# set a (list of) pixel threshold value across which to evaluate rotation robustness\n",
    "thresholds = [3.]\n",
    "\n",
    "# set this to true to see intermediate outputs/messages\n",
    "verbose = False"
   ]
  },
  {
   "cell_type": "code",
   "execution_count": 8,
   "id": "a07f5bef-4d42-4cbc-8a42-397541525075",
   "metadata": {},
   "outputs": [
    {
     "name": "stderr",
     "output_type": "stream",
     "text": [
      "Evaluating predictions for i_ajuntament (1/116)\t\t: 100%|██████████| 125/125 [00:01<00:00, 67.60it/s]\n",
      "Evaluating predictions for i_autannes (2/116)\t\t: 100%|██████████| 125/125 [00:02<00:00, 56.38it/s]\n",
      "Evaluating predictions for i_bologna (3/116)\t\t: 100%|██████████| 125/125 [00:02<00:00, 57.31it/s]\n",
      "Evaluating predictions for i_books (4/116)\t\t: 100%|██████████| 125/125 [00:01<00:00, 67.10it/s]\n",
      "Evaluating predictions for i_boutique (5/116)\t\t: 100%|██████████| 125/125 [00:02<00:00, 47.15it/s]\n",
      "Evaluating predictions for i_bridger (6/116)\t\t: 100%|██████████| 125/125 [00:02<00:00, 61.47it/s]\n",
      "Evaluating predictions for i_brooklyn (7/116)\t\t: 100%|██████████| 125/125 [00:02<00:00, 59.17it/s]\n",
      "Evaluating predictions for i_castle (8/116)\t\t: 100%|██████████| 125/125 [00:02<00:00, 60.12it/s]\n",
      "Evaluating predictions for i_chestnuts (9/116)\t\t: 100%|██████████| 125/125 [00:02<00:00, 60.75it/s]\n",
      "Evaluating predictions for i_contruction (10/116)\t\t: 100%|██████████| 125/125 [00:02<00:00, 58.03it/s]\n",
      "Evaluating predictions for i_crownday (11/116)\t\t: 100%|██████████| 125/125 [00:02<00:00, 59.69it/s]\n",
      "Evaluating predictions for i_crownnight (12/116)\t\t: 100%|██████████| 125/125 [00:02<00:00, 58.13it/s]\n",
      "Evaluating predictions for i_dc (13/116)\t\t: 100%|██████████| 125/125 [00:01<00:00, 66.21it/s]\n",
      "Evaluating predictions for i_dome (14/116)\t\t: 100%|██████████| 125/125 [00:02<00:00, 59.13it/s]\n",
      "Evaluating predictions for i_duda (15/116)\t\t: 100%|██████████| 125/125 [00:01<00:00, 68.11it/s]\n",
      "Evaluating predictions for i_fenis (16/116)\t\t: 100%|██████████| 125/125 [00:02<00:00, 59.77it/s]\n",
      "Evaluating predictions for i_fog (17/116)\t\t: 100%|██████████| 125/125 [00:02<00:00, 54.60it/s]\n",
      "Evaluating predictions for i_fruits (18/116)\t\t: 100%|██████████| 125/125 [00:01<00:00, 62.76it/s]\n",
      "Evaluating predictions for i_gonnenberg (19/116)\t\t: 100%|██████████| 125/125 [00:02<00:00, 56.95it/s]\n",
      "Evaluating predictions for i_greenhouse (20/116)\t\t: 100%|██████████| 125/125 [00:02<00:00, 45.17it/s]\n",
      "Evaluating predictions for i_greentea (21/116)\t\t: 100%|██████████| 125/125 [00:02<00:00, 55.11it/s]\n",
      "Evaluating predictions for i_indiana (22/116)\t\t: 100%|██████████| 125/125 [00:02<00:00, 53.39it/s]\n",
      "Evaluating predictions for i_kions (23/116)\t\t: 100%|██████████| 125/125 [00:02<00:00, 50.61it/s]\n",
      "Evaluating predictions for i_ktirio (24/116)\t\t: 100%|██████████| 125/125 [00:02<00:00, 50.59it/s]\n",
      "Evaluating predictions for i_kurhaus (25/116)\t\t: 100%|██████████| 125/125 [00:02<00:00, 51.79it/s]\n",
      "Evaluating predictions for i_leuven (26/116)\t\t: 100%|██████████| 125/125 [00:01<00:00, 66.50it/s]\n",
      "Evaluating predictions for i_lionday (27/116)\t\t: 100%|██████████| 125/125 [00:01<00:00, 66.27it/s]\n",
      "Evaluating predictions for i_lionnight (28/116)\t\t: 100%|██████████| 125/125 [00:03<00:00, 32.16it/s]\n",
      "Evaluating predictions for i_londonbridge (29/116)\t\t: 100%|██████████| 125/125 [00:02<00:00, 52.32it/s]\n",
      "Evaluating predictions for i_melon (30/116)\t\t: 100%|██████████| 125/125 [00:01<00:00, 66.90it/s]\n",
      "Evaluating predictions for i_miniature (31/116)\t\t: 100%|██████████| 125/125 [00:02<00:00, 50.83it/s]\n",
      "Evaluating predictions for i_nescafe (32/116)\t\t: 100%|██████████| 125/125 [00:02<00:00, 60.32it/s]\n",
      "Evaluating predictions for i_nijmegen (33/116)\t\t: 100%|██████████| 125/125 [00:02<00:00, 61.51it/s]\n",
      "Evaluating predictions for i_nuts (34/116)\t\t: 100%|██████████| 125/125 [00:02<00:00, 60.28it/s]\n",
      "Evaluating predictions for i_objects (35/116)\t\t: 100%|██████████| 125/125 [00:02<00:00, 44.40it/s]\n",
      "Evaluating predictions for i_parking (36/116)\t\t: 100%|██████████| 125/125 [00:02<00:00, 57.08it/s]\n",
      "Evaluating predictions for i_partyfood (37/116)\t\t: 100%|██████████| 125/125 [00:02<00:00, 61.24it/s]\n",
      "Evaluating predictions for i_pencils (38/116)\t\t: 100%|██████████| 125/125 [00:02<00:00, 61.41it/s]\n",
      "Evaluating predictions for i_pinard (39/116)\t\t: 100%|██████████| 125/125 [00:01<00:00, 70.39it/s]\n",
      "Evaluating predictions for i_pool (40/116)\t\t: 100%|██████████| 125/125 [00:02<00:00, 51.02it/s]\n",
      "Evaluating predictions for i_porta (41/116)\t\t: 100%|██████████| 125/125 [00:02<00:00, 50.27it/s]\n",
      "Evaluating predictions for i_resort (42/116)\t\t: 100%|██████████| 125/125 [00:02<00:00, 43.91it/s]\n",
      "Evaluating predictions for i_salon (43/116)\t\t: 100%|██████████| 125/125 [00:02<00:00, 58.30it/s]\n",
      "Evaluating predictions for i_santuario (44/116)\t\t: 100%|██████████| 125/125 [00:02<00:00, 58.17it/s]\n",
      "Evaluating predictions for i_school (45/116)\t\t: 100%|██████████| 125/125 [00:02<00:00, 54.88it/s]\n",
      "Evaluating predictions for i_ski (46/116)\t\t: 100%|██████████| 125/125 [00:02<00:00, 50.38it/s]\n",
      "Evaluating predictions for i_smurf (47/116)\t\t: 100%|██████████| 125/125 [00:01<00:00, 63.19it/s]\n",
      "Evaluating predictions for i_steps (48/116)\t\t: 100%|██████████| 125/125 [00:01<00:00, 64.10it/s]\n",
      "Evaluating predictions for i_table (49/116)\t\t: 100%|██████████| 125/125 [00:02<00:00, 46.25it/s]\n",
      "Evaluating predictions for i_tools (50/116)\t\t: 100%|██████████| 125/125 [00:02<00:00, 61.47it/s]\n",
      "Evaluating predictions for i_toy (51/116)\t\t: 100%|██████████| 125/125 [00:01<00:00, 63.29it/s]\n",
      "Evaluating predictions for i_troulos (52/116)\t\t: 100%|██████████| 125/125 [00:01<00:00, 62.73it/s]\n",
      "Evaluating predictions for i_veggies (53/116)\t\t: 100%|██████████| 125/125 [00:02<00:00, 60.90it/s]\n",
      "Evaluating predictions for i_village (54/116)\t\t: 100%|██████████| 125/125 [00:02<00:00, 54.44it/s]\n",
      "Evaluating predictions for i_whitebuilding (55/116)\t\t: 100%|██████████| 125/125 [00:02<00:00, 55.68it/s]\n",
      "Evaluating predictions for i_yellowtent (56/116)\t\t: 100%|██████████| 125/125 [00:02<00:00, 51.34it/s]\n",
      "Evaluating predictions for i_zion (57/116)\t\t: 100%|██████████| 125/125 [00:02<00:00, 61.31it/s]\n",
      "Evaluating predictions for v_abstract (58/116)\t\t: 100%|██████████| 125/125 [00:02<00:00, 58.94it/s]\n",
      "Evaluating predictions for v_adam (59/116)\t\t: 100%|██████████| 125/125 [00:01<00:00, 66.29it/s]\n",
      "Evaluating predictions for v_apprentices (60/116)\t\t: 100%|██████████| 125/125 [00:02<00:00, 54.98it/s]\n",
      "Evaluating predictions for v_artisans (61/116)\t\t: 100%|██████████| 125/125 [00:02<00:00, 58.50it/s]\n",
      "Evaluating predictions for v_astronautis (62/116)\t\t: 100%|██████████| 125/125 [00:02<00:00, 55.62it/s]\n",
      "Evaluating predictions for v_azzola (63/116)\t\t: 100%|██████████| 125/125 [00:02<00:00, 51.51it/s]\n",
      "Evaluating predictions for v_bark (64/116)\t\t: 100%|██████████| 125/125 [00:02<00:00, 55.14it/s]\n",
      "Evaluating predictions for v_bees (65/116)\t\t: 100%|██████████| 125/125 [00:02<00:00, 49.57it/s]\n",
      "Evaluating predictions for v_beyus (66/116)\t\t: 100%|██████████| 125/125 [00:01<00:00, 62.62it/s]\n",
      "Evaluating predictions for v_bip (67/116)\t\t: 100%|██████████| 125/125 [00:02<00:00, 54.78it/s]\n",
      "Evaluating predictions for v_bird (68/116)\t\t: 100%|██████████| 125/125 [00:02<00:00, 42.73it/s]\n",
      "Evaluating predictions for v_birdwoman (69/116)\t\t: 100%|██████████| 125/125 [00:02<00:00, 42.75it/s]\n",
      "Evaluating predictions for v_blueprint (70/116)\t\t: 100%|██████████| 125/125 [00:02<00:00, 56.61it/s]\n",
      "Evaluating predictions for v_boat (71/116)\t\t: 100%|██████████| 125/125 [00:02<00:00, 53.50it/s]\n",
      "Evaluating predictions for v_bricks (72/116)\t\t: 100%|██████████| 125/125 [00:02<00:00, 53.06it/s]\n",
      "Evaluating predictions for v_busstop (73/116)\t\t: 100%|██████████| 125/125 [00:02<00:00, 56.85it/s]\n",
      "Evaluating predictions for v_calder (74/116)\t\t: 100%|██████████| 125/125 [00:02<00:00, 58.09it/s]\n",
      "Evaluating predictions for v_cartooncity (75/116)\t\t: 100%|██████████| 125/125 [00:02<00:00, 51.46it/s]\n",
      "Evaluating predictions for v_charing (76/116)\t\t: 100%|██████████| 125/125 [00:01<00:00, 62.60it/s]\n",
      "Evaluating predictions for v_churchill (77/116)\t\t: 100%|██████████| 125/125 [00:02<00:00, 58.27it/s]\n",
      "Evaluating predictions for v_circus (78/116)\t\t: 100%|██████████| 125/125 [00:02<00:00, 52.18it/s]\n",
      "Evaluating predictions for v_coffeehouse (79/116)\t\t: 100%|██████████| 125/125 [00:02<00:00, 54.88it/s]\n",
      "Evaluating predictions for v_colors (80/116)\t\t: 100%|██████████| 125/125 [00:01<00:00, 63.03it/s]\n",
      "Evaluating predictions for v_courses (81/116)\t\t: 100%|██████████| 125/125 [00:02<00:00, 56.64it/s]\n",
      "Evaluating predictions for v_dirtywall (82/116)\t\t: 100%|██████████| 125/125 [00:02<00:00, 56.48it/s]\n",
      "Evaluating predictions for v_dogman (83/116)\t\t: 100%|██████████| 125/125 [00:01<00:00, 62.96it/s]\n",
      "Evaluating predictions for v_eastsouth (84/116)\t\t: 100%|██████████| 125/125 [00:02<00:00, 51.08it/s]\n",
      "Evaluating predictions for v_feast (85/116)\t\t: 100%|██████████| 125/125 [00:02<00:00, 48.09it/s]\n",
      "Evaluating predictions for v_fest (86/116)\t\t: 100%|██████████| 125/125 [00:02<00:00, 51.23it/s]\n",
      "Evaluating predictions for v_gardens (87/116)\t\t: 100%|██████████| 125/125 [00:02<00:00, 61.19it/s]\n",
      "Evaluating predictions for v_grace (88/116)\t\t: 100%|██████████| 125/125 [00:02<00:00, 60.10it/s]\n",
      "Evaluating predictions for v_graffiti (89/116)\t\t: 100%|██████████| 125/125 [00:02<00:00, 48.77it/s]\n",
      "Evaluating predictions for v_home (90/116)\t\t: 100%|██████████| 125/125 [00:02<00:00, 61.77it/s]\n",
      "Evaluating predictions for v_laptop (91/116)\t\t: 100%|██████████| 125/125 [00:01<00:00, 63.72it/s]\n",
      "Evaluating predictions for v_london (92/116)\t\t: 100%|██████████| 125/125 [00:02<00:00, 50.12it/s]\n",
      "Evaluating predictions for v_machines (93/116)\t\t: 100%|██████████| 125/125 [00:02<00:00, 54.18it/s]\n",
      "Evaluating predictions for v_man (94/116)\t\t: 100%|██████████| 125/125 [00:02<00:00, 55.10it/s]\n",
      "Evaluating predictions for v_maskedman (95/116)\t\t: 100%|██████████| 125/125 [00:02<00:00, 57.79it/s]\n",
      "Evaluating predictions for v_pomegranate (96/116)\t\t: 100%|██████████| 125/125 [00:02<00:00, 56.59it/s]\n",
      "Evaluating predictions for v_posters (97/116)\t\t: 100%|██████████| 125/125 [00:02<00:00, 56.27it/s]\n",
      "Evaluating predictions for v_samples (98/116)\t\t: 100%|██████████| 125/125 [00:02<00:00, 48.51it/s]\n",
      "Evaluating predictions for v_soldiers (99/116)\t\t: 100%|██████████| 125/125 [00:02<00:00, 60.08it/s]\n",
      "Evaluating predictions for v_strand (100/116)\t\t: 100%|██████████| 125/125 [00:02<00:00, 54.81it/s]\n",
      "Evaluating predictions for v_sunseason (101/116)\t\t: 100%|██████████| 125/125 [00:02<00:00, 50.80it/s]\n",
      "Evaluating predictions for v_tabletop (102/116)\t\t: 100%|██████████| 125/125 [00:02<00:00, 42.88it/s]\n",
      "Evaluating predictions for v_talent (103/116)\t\t: 100%|██████████| 125/125 [00:02<00:00, 50.01it/s]\n",
      "Evaluating predictions for v_tempera (104/116)\t\t: 100%|██████████| 125/125 [00:02<00:00, 59.37it/s]\n",
      "Evaluating predictions for v_there (105/116)\t\t: 100%|██████████| 125/125 [00:02<00:00, 60.13it/s]\n",
      "Evaluating predictions for v_underground (106/116)\t\t: 100%|██████████| 125/125 [00:03<00:00, 38.42it/s]\n",
      "Evaluating predictions for v_vitro (107/116)\t\t: 100%|██████████| 125/125 [00:02<00:00, 43.00it/s]\n",
      "Evaluating predictions for v_wall (108/116)\t\t: 100%|██████████| 125/125 [00:02<00:00, 58.24it/s]\n",
      "Evaluating predictions for v_wapping (109/116)\t\t: 100%|██████████| 125/125 [00:02<00:00, 60.19it/s]\n",
      "Evaluating predictions for v_war (110/116)\t\t: 100%|██████████| 125/125 [00:02<00:00, 42.92it/s]\n",
      "Evaluating predictions for v_weapons (111/116)\t\t: 100%|██████████| 125/125 [00:02<00:00, 60.38it/s]\n",
      "Evaluating predictions for v_woman (112/116)\t\t: 100%|██████████| 125/125 [00:02<00:00, 56.09it/s]\n",
      "Evaluating predictions for v_wormhole (113/116)\t\t: 100%|██████████| 125/125 [00:02<00:00, 60.80it/s]\n",
      "Evaluating predictions for v_wounded (114/116)\t\t: 100%|██████████| 125/125 [00:01<00:00, 66.04it/s]\n",
      "Evaluating predictions for v_yard (115/116)\t\t: 100%|██████████| 125/125 [00:02<00:00, 47.50it/s]\n",
      "Evaluating predictions for v_yuri (116/116)\t\t: 100%|██████████| 125/125 [00:01<00:00, 66.92it/s]\n"
     ]
    }
   ],
   "source": [
    "mma = defaultdict(list)\n",
    "\n",
    "counter = 1\n",
    "for sequence in sequences:\n",
    "    # set path to the source image\n",
    "    img1_path = join(sequence, \"1.ppm\")\n",
    "    img1 = Image.open(img1_path)\n",
    "    if downsize:\n",
    "        img1 = img1.resize((imsize, imsize))\n",
    "\n",
    "    # load outputs for source image\n",
    "    sequence_name = os.path.basename(sequence)\n",
    "    save_path = join(save_dir, sequence_name, \"1.npy\")\n",
    "    img1_outputs = np.load(save_path, allow_pickle=True).item()\n",
    "\n",
    "    # possible indices of the target images\n",
    "    img2_indices = np.arange(2, 7)\n",
    "\n",
    "    # load all target images at once\n",
    "    img2s = [Image.open(join(sequence, f\"{i}.ppm\")) for i in img2_indices]\n",
    "    if downsize:\n",
    "        img2s = [img2.resize((imsize, imsize)) for img2 in img2s]\n",
    "\n",
    "    # load all homographies\n",
    "    # NOTE that this is not needed since we save the apt H within outputs itself\n",
    "\n",
    "    rotation_grid, img2_indices_grid  = np.meshgrid(rotations, img2_indices)\n",
    "    rotation_grid, img2_indices_grid = rotation_grid.flatten(), img2_indices_grid.flatten()\n",
    "\n",
    "    iterator = tqdm_iterator(\n",
    "        range(len(rotation_grid)),\n",
    "        desc=f\"Evaluating predictions for {sequence_name} ({counter}/{len(sequences)})\\t\\t\",\n",
    "    )\n",
    "    for i in iterator:\n",
    "        rotation, img2_index = rotation_grid[i], img2_indices_grid[i]\n",
    "        \n",
    "        if verbose:\n",
    "            print(f\"Image {img2_index} with rotation {rotation}\")\n",
    "        \n",
    "        img2 = img2s[img2_index - 2]\n",
    "        img2_rotated = img2.rotate(rotation)\n",
    "\n",
    "        save_path = join(save_dir, sequence_name, f\"{img2_index}_rotation_{rotation}.npy\")\n",
    "        img2_outputs = np.load(save_path, allow_pickle=True).item()\n",
    "        \n",
    "        # get keypoints and descriptors from the outputs\n",
    "        kps1 = img1_outputs[\"keypoints\"]\n",
    "        des1 = img1_outputs[\"descriptors\"]\n",
    "\n",
    "        kps2 = img2_outputs[\"keypoints\"]\n",
    "        des2 = img2_outputs[\"descriptors\"]\n",
    "        H = img2_outputs[\"H\"]\n",
    "        \n",
    "        # show detected keypoints\n",
    "        if verbose and rotation == 30 and img2_index == 4:\n",
    "            show_images_with_keypoints([img1, img2_rotated], [kps1, kps2], radius=2)\n",
    "\n",
    "        # perform matching\n",
    "        width, height = img2.size\n",
    "        result = evaluate_matching_with_rotation(\n",
    "            kp1=kps1,\n",
    "            des1=des1,\n",
    "            kp2=kps2,\n",
    "            des2=des2,\n",
    "            H=H,\n",
    "            width=width,\n",
    "            height=height,\n",
    "            rotation=rotation,\n",
    "            return_metadata=True,\n",
    "            threshold=3.,\n",
    "        )\n",
    "        \n",
    "        # show matching results\n",
    "        if verbose and rotation == 30 and img2_index == 4:\n",
    "            analyze_result(img1, img2_rotated, result, K=10, radius=5)\n",
    "        \n",
    "        # compute accuracy across various thresholds\n",
    "        _match_accu = []\n",
    "        for threshold in thresholds:\n",
    "            _match_accu.append(np.mean(result[\"distances\"] < threshold))\n",
    "\n",
    "        mma[rotation].append(np.mean(_match_accu))\n",
    "\n",
    "    counter += 1"
   ]
  },
  {
   "cell_type": "code",
   "execution_count": 9,
   "id": "97816fdb-b8b2-49c9-936c-e3a467f6970d",
   "metadata": {},
   "outputs": [],
   "source": [
    "# compute the mean matching accuracy (MMA) for every rotation value\n",
    "mma_avg = {k:np.array(mma[k]).mean() for k in mma}"
   ]
  },
  {
   "cell_type": "markdown",
   "id": "61c260fb-ffc8-42ce-9f92-d18a74ce1080",
   "metadata": {},
   "source": [
    "### Plot results <a class=\"anchor\" id=\"plot_results\"></a>"
   ]
  },
  {
   "cell_type": "code",
   "execution_count": 14,
   "id": "884f8dbf-5b6f-4f08-8032-5ca588360914",
   "metadata": {},
   "outputs": [
    {
     "data": {
      "image/png": "[encoded data removed]",
      "text/plain": [
       "<Figure size 864x576 with 1 Axes>"
      ]
     },
     "metadata": {
      "needs_background": "light"
     },
     "output_type": "display_data"
    }
   ],
   "source": [
    "fig, ax = plt.subplots(1, 1, figsize=(12, 8))\n",
    "\n",
    "ax.grid(alpha=0.5)\n",
    "# ax.set_ylim((0., 1.))\n",
    "ax.set_title(\"Rotation-equivariance on HPatches dataset\", fontsize=15)\n",
    "ax.set_xlabel(\"Rotation angle $(\\degree)$\", fontsize=12)\n",
    "ax.set_ylabel(\"Mean matching accuracy (MMA)\", fontsize=12)\n",
    "\n",
    "ax.plot(\n",
    "    list(mma_avg.keys()),\n",
    "    list(mma_avg.values()),\n",
    "    \"--o\",\n",
    "    label=\"R2D2 - $C_{4}$\",\n",
    "    markersize=8,\n",
    "    linewidth=2.,\n",
    ")\n",
    "ax.set_xticks(list(mma_avg.keys()))\n",
    "\n",
    "ax.legend(fontsize=14, bbox_to_anchor=(1.17, 0.95), title=\"Method\",)\n",
    "plt.show()"
   ]
  },
  {
   "cell_type": "code",
   "execution_count": null,
   "id": "2a361479-b0f4-444f-ad6f-a2ca078b3b3b",
   "metadata": {},
   "outputs": [],
   "source": []
  }
 ],
 "metadata": {
  "kernelspec": {
   "display_name": "Python 3",
   "language": "python",
   "name": "python3"
  },
  "language_info": {
   "codemirror_mode": {
    "name": "ipython",
    "version": 3
   },
   "file_extension": ".py",
   "mimetype": "text/x-python",
   "name": "python",
   "nbconvert_exporter": "python",
   "pygments_lexer": "ipython3",
   "version": "3.8.8"
  }
 },
 "nbformat": 4,
 "nbformat_minor": 5
}
