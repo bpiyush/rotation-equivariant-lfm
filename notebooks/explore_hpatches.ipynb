{
 "cells": [
  {
   "cell_type": "code",
   "execution_count": null,
   "id": "ca74c8e8-27ac-4af7-829d-109188ae9ffe",
   "metadata": {},
   "outputs": [],
   "source": [
    "%load_ext autoreload\n",
    "%autoreload 2"
   ]
  },
  {
   "cell_type": "code",
   "execution_count": null,
   "id": "0c112f20-6bb0-4614-8dc1-212eacd3b161",
   "metadata": {},
   "outputs": [],
   "source": [
    "import os\n",
    "from os.path import join, exists, expanduser, basename\n",
    "from genericpath import isdir\n",
    "from glob import glob\n",
    "import numpy as np\n",
    "from PIL import Image\n",
    "from collections import defaultdict\n",
    "import matplotlib.pyplot as plt\n",
    "import torch\n",
    "\n",
    "# from lib.r2d2.extract import extract_keypoints_modified\n",
    "from relfm.utils.paths import REPO_PATH\n",
    "# from relfm.utils.log import print_update, tqdm_iterator\n",
    "from relfm.utils.visualize import show_images_with_keypoints, set_latex_fonts, show_grid_of_images, get_concat_h\n",
    "# from relfm.utils.matching import evaluate_matching_with_rotation, analyze_result\n",
    "# from relfm.inference.r2d2_on_hpatches import configure_save_dir"
   ]
  },
  {
   "cell_type": "code",
   "execution_count": null,
   "id": "adc7d64f-3f9c-4f65-aff2-ba4ad7ab5a66",
   "metadata": {},
   "outputs": [],
   "source": [
    "set_latex_fonts(show_sample=True)"
   ]
  },
  {
   "cell_type": "code",
   "execution_count": null,
   "id": "03ab2ac6-e876-4540-b115-3993bec4ac07",
   "metadata": {},
   "outputs": [],
   "source": [
    "DATA_DIR = \"../data/hpatches-sequences-release/\""
   ]
  },
  {
   "cell_type": "code",
   "execution_count": null,
   "id": "43a94e04-5914-4155-861b-57978079f4d2",
   "metadata": {},
   "outputs": [],
   "source": [
    "sequences = glob(join(DATA_DIR, \"i_*\"))"
   ]
  },
  {
   "cell_type": "code",
   "execution_count": null,
   "id": "c4e3690a-338f-49b2-ab72-85a428236bab",
   "metadata": {},
   "outputs": [],
   "source": [
    "for s in sequences:\n",
    "    # print(basename(s))\n",
    "    images = glob(join(s, \"*.ppm\"))\n",
    "    images = [Image.open(x) for x in images]\n",
    "    show_grid_of_images(images, n_cols=len(images), figsize=(12, 4), title=basename(s))"
   ]
  },
  {
   "cell_type": "code",
   "execution_count": null,
   "id": "6f8114d9-5be5-4837-a917-0b2c6cea741b",
   "metadata": {},
   "outputs": [],
   "source": []
  }
 ],
 "metadata": {
  "kernelspec": {
   "display_name": "Python 3 (ipykernel)",
   "language": "python",
   "name": "python3"
  },
  "language_info": {
   "codemirror_mode": {
    "name": "ipython",
    "version": 3
   },
   "file_extension": ".py",
   "mimetype": "text/x-python",
   "name": "python",
   "nbconvert_exporter": "python",
   "pygments_lexer": "ipython3",
   "version": "3.9.12"
  }
 },
 "nbformat": 4,
 "nbformat_minor": 5
}
